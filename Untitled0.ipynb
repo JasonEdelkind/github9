{
  "nbformat": 4,
  "nbformat_minor": 0,
  "metadata": {
    "colab": {
      "provenance": []
    },
    "kernelspec": {
      "name": "ir",
      "display_name": "R"
    },
    "language_info": {
      "name": "R"
    }
  },
  "cells": [
    {
      "cell_type": "code",
      "execution_count": 6,
      "metadata": {
        "id": "AZFdLdMTo5MH",
        "colab": {
          "base_uri": "https://localhost:8080/",
          "height": 357
        },
        "outputId": "cf414225-2c0a-4703-cc7d-a5c0ac13e51e"
      },
      "outputs": [
        {
          "output_type": "stream",
          "name": "stderr",
          "text": [
            "Installing package into ‘/usr/local/lib/R/site-library’\n",
            "(as ‘lib’ is unspecified)\n",
            "\n",
            "Installing package into ‘/usr/local/lib/R/site-library’\n",
            "(as ‘lib’ is unspecified)\n",
            "\n",
            "Installing package into ‘/usr/local/lib/R/site-library’\n",
            "(as ‘lib’ is unspecified)\n",
            "\n"
          ]
        },
        {
          "output_type": "display_data",
          "data": {
            "text/html": [
              "<dl>\n",
              "\t<dt>$leaflet</dt>\n",
              "\t\t<dd>NULL</dd>\n",
              "\t<dt>$htmlwidgets</dt>\n",
              "\t\t<dd>NULL</dd>\n",
              "\t<dt>$googledrive</dt>\n",
              "\t\t<dd>NULL</dd>\n",
              "</dl>\n"
            ],
            "text/markdown": "$leaflet\n:   NULL\n$htmlwidgets\n:   NULL\n$googledrive\n:   NULL\n\n\n",
            "text/latex": "\\begin{description}\n\\item[\\$leaflet] NULL\n\\item[\\$htmlwidgets] NULL\n\\item[\\$googledrive] NULL\n\\end{description}\n",
            "text/plain": [
              "$leaflet\n",
              "NULL\n",
              "\n",
              "$htmlwidgets\n",
              "NULL\n",
              "\n",
              "$googledrive\n",
              "NULL\n"
            ]
          },
          "metadata": {}
        },
        {
          "output_type": "stream",
          "name": "stderr",
          "text": [
            "Loading required package: googledrive\n",
            "\n"
          ]
        },
        {
          "output_type": "display_data",
          "data": {
            "text/html": [
              "<style>\n",
              ".dl-inline {width: auto; margin:0; padding: 0}\n",
              ".dl-inline>dt, .dl-inline>dd {float: none; width: auto; display: inline-block}\n",
              ".dl-inline>dt::after {content: \":\\0020\"; padding-right: .5ex}\n",
              ".dl-inline>dt:not(:first-of-type) {padding-left: .5ex}\n",
              "</style><dl class=dl-inline><dt>leaflet</dt><dd>TRUE</dd><dt>htmlwidgets</dt><dd>TRUE</dd><dt>googledrive</dt><dd>TRUE</dd></dl>\n"
            ],
            "text/markdown": "leaflet\n:   TRUEhtmlwidgets\n:   TRUEgoogledrive\n:   TRUE\n\n",
            "text/latex": "\\begin{description*}\n\\item[leaflet] TRUE\n\\item[htmlwidgets] TRUE\n\\item[googledrive] TRUE\n\\end{description*}\n",
            "text/plain": [
              "    leaflet htmlwidgets googledrive \n",
              "       TRUE        TRUE        TRUE "
            ]
          },
          "metadata": {}
        }
      ],
      "source": [
        "#Installing packages may take as long as 10min\n",
        "packages<-c(\"leaflet\", \"htmlwidgets\",\"googledrive\")\n",
        "sapply(packages, install.packages, character.only=TRUE)\n",
        "sapply(packages, require, character.only=TRUE)"
      ]
    },
    {
      "cell_type": "code",
      "source": [
        "#google sheet to csv\n",
        "drive_deauth()\n",
        "drive_download(as_id(\"1zMeNvV3L7tKuvkKJ5g98D65TdUwHNhzhNLHyw9nBfEk\"), overwrite = TRUE, type = \"csv\")\n",
        "data <- as.data.frame(read.csv(\"Point Data Collection.csv\"))"
      ],
      "metadata": {
        "id": "Xgx0T8ezo_ge",
        "colab": {
          "base_uri": "https://localhost:8080/"
        },
        "outputId": "47c642f4-4868-48bc-cb63-01575e33080a"
      },
      "execution_count": 9,
      "outputs": [
        {
          "output_type": "stream",
          "name": "stderr",
          "text": [
            "File downloaded:\n",
            "\n",
            "• \u001b[36mPoint Data Collection\u001b[39m \u001b[90m<id: 1zMeNvV3L7tKuvkKJ5g98D65TdUwHNhzhNLHyw9nBfEk>\u001b[39m\n",
            "\n",
            "Saved locally as:\n",
            "\n",
            "• \u001b[34mPoint Data Collection.csv\u001b[39m\n",
            "\n"
          ]
        }
      ]
    },
    {
      "cell_type": "code",
      "source": [
        "# colorblind friendly palette:\n",
        "cbbPalette <- c(\"#000000\", \"#E69F00\", \"#56B4E9\", \"#009E73\", \"#F0E442\", \"#0072B2\", \"#D55E00\", \"#CC79A7\")\n",
        "\n",
        "#leaflet - needs to be downloaded and opened in a browser\n",
        "html <- data %>%\n",
        "      leaflet() %>%\n",
        "      addTiles(group = \"OSM\")%>%\n",
        "        addProviderTiles(providers$CartoDB.Positron, group = \"CartoDB\") %>%\n",
        "        addProviderTiles(providers$Esri.NatGeoWorldMap, group = \"NatGeo\") %>%\n",
        "        addProviderTiles(providers$Esri.WorldImagery, group = \"ESRI\") %>%\n",
        "      addCircleMarkers(popup = data$Name,\n",
        "                       label = data$Pet.Factor..,\n",
        "                       #radius = data$DBH,\n",
        "                       color = ~pal(Pet.Factor..),\n",
        "                       fillColor = \"red\",\n",
        "                       fillOpacity = 0.7,\n",
        "                       labelOptions = labelOptions(noHide = T, direction = \"bottom\",\n",
        "                                                   offset=c(0,-20), textOnly = TRUE)) %>%\n",
        "      addLayersControl(\n",
        "        baseGroups = c(\"OSM\", \"CartoDB\", \"NatGeo\", \"ESRI\"),\n",
        "        options = layersControlOptions(collapsed = FALSE),\n",
        "        overlayGroups = \"Wildlife\") %>%\n",
        "      addMiniMap(zoomLevelOffset = -4) %>%\n",
        "      addScaleBar()\n",
        "saveWidget(html, file = \"github9.html\")"
      ],
      "metadata": {
        "id": "u0-1z_Suo_wd",
        "colab": {
          "base_uri": "https://localhost:8080/"
        },
        "outputId": "2262ba56-478a-4d14-9c97-7c0756204927"
      },
      "execution_count": 8,
      "outputs": [
        {
          "output_type": "stream",
          "name": "stderr",
          "text": [
            "Assuming \"Longitude\" and \"Latitude\" are longitude and latitude, respectively\n",
            "\n"
          ]
        }
      ]
    },
    {
      "cell_type": "code",
      "source": [
        "# colorblind friendly palette:\n",
        "pal <- colorFactor(\n",
        "palette <- c(\"#CC79A7\", \"#E69F00\", \"#56B4E9\", \"#009E73\", \"#F0E442\"),\n",
        "  domain = data$Pet.Factor..)\n",
        "\n",
        "\n",
        "#leaflet - needs to be downloaded and opened in a browser\n",
        "html <- data %>%\n",
        "      leaflet() %>%\n",
        "      addTiles(group = \"OSM\")%>%\n",
        "        addProviderTiles(providers$CartoDB.Positron, group = \"CartoDB\") %>%\n",
        "        addProviderTiles(providers$Esri.NatGeoWorldMap, group = \"NatGeo\") %>%\n",
        "        addProviderTiles(providers$Esri.WorldImagery, group = \"ESRI\") %>%\n",
        "      addCircleMarkers(popup =paste(\"Type:\",data$Taxonomy, \"<br>\",\n",
        "                                     \"Name\", data$Name),\n",
        "                       label = data$Pet.Factor..,\n",
        "                       radius = data$Pet.Factor..*3,\n",
        "                       color = \"grey\",#~pal(Pet.Factor..),\n",
        "                       fillColor = ~pal(Pet.Factor..),\n",
        "                       fillOpacity = 0.7,\n",
        "                       group=\"Wildlife\",\n",
        "                       labelOptions = labelOptions(noHide = T, direction = \"bottom\",\n",
        "                                                   offset=c(0,-20), textOnly = TRUE)) %>%\n",
        "      addLayersControl(\n",
        "        baseGroups = c(\"OSM\", \"CartoDB\", \"NatGeo\", \"ESRI\"),\n",
        "        options = layersControlOptions(collapsed = FALSE),\n",
        "        overlayGroups = \"Wildlife\") %>%\n",
        "      addMiniMap(zoomLevelOffset = -4) %>%\n",
        "      addScaleBar()\n",
        "saveWidget(html, file = \"github9.html\")"
      ],
      "metadata": {
        "colab": {
          "base_uri": "https://localhost:8080/"
        },
        "outputId": "886636f8-710c-4e66-8d75-ec40ac2b5114",
        "id": "WUyT2I9s2MyR"
      },
      "execution_count": 36,
      "outputs": [
        {
          "output_type": "stream",
          "name": "stderr",
          "text": [
            "Assuming \"Longitude\" and \"Latitude\" are longitude and latitude, respectively\n",
            "\n"
          ]
        }
      ]
    },
    {
      "cell_type": "code",
      "source": [],
      "metadata": {
        "id": "ZtnyOiQmttHb"
      },
      "execution_count": null,
      "outputs": []
    }
  ]
}